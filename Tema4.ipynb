{
 "cells": [
  {
   "cell_type": "code",
   "execution_count": 8,
   "metadata": {},
   "outputs": [],
   "source": [
    "import numpy as np\n",
    "\n",
    "def get_mnist_data():\n",
    "    import os\n",
    "    from urllib.request import urlretrieve\n",
    "\n",
    "    def download(filename, source='http://yann.lecun.com/exdb/mnist/'):\n",
    "        print(\"Downloading %s\" % filename)\n",
    "        urlretrieve(source + filename, filename)\n",
    "\n",
    "    # We then define functions for loading MNIST images and labels.\n",
    "    # For convenience, they also download the requested files if needed.\n",
    "    import gzip\n",
    "\n",
    "    def load_mnist_images(filename):\n",
    "        if not os.path.exists(filename):\n",
    "            download(filename)\n",
    "        # Read the inputs in Yann LeCun's binary format.\n",
    "        with gzip.open(filename, 'rb') as f:\n",
    "            data = np.frombuffer(f.read(), np.uint8, offset=16)\n",
    "        # The inputs are vectors now, we reshape them to monochrome 2D images,\n",
    "        # following the shape convention: (examples, channels, rows, columns)\n",
    "        data = data.reshape(-1, 1, 28, 28)\n",
    "        # The inputs come as bytes, we convert them to float32 in range [0,1].\n",
    "        # (Actually to range [0, 255/256], for compatibility to the version\n",
    "        # provided at http://deeplearning.net/data/mnist/mnist.pkl.gz.)\n",
    "        return data / np.float32(256)\n",
    "\n",
    "    def load_mnist_labels(filename):\n",
    "        if not os.path.exists(filename):\n",
    "            download(filename)\n",
    "        # Read the labels in Yann LeCun's binary format.\n",
    "        with gzip.open(filename, 'rb') as f:\n",
    "            data = np.frombuffer(f.read(), np.uint8, offset=8)\n",
    "        # The labels are vectors of integers now, that's exactly what we want.\n",
    "        return data\n",
    "\n",
    "\n",
    "    x_train = load_mnist_images('train-images-idx3-ubyte.gz')\n",
    "    y_train = load_mnist_labels('train-labels-idx1-ubyte.gz')\n",
    "    x_test = load_mnist_images('t10k-images-idx3-ubyte.gz')\n",
    "    y_test = load_mnist_labels('t10k-labels-idx1-ubyte.gz')\n",
    "    \n",
    "    data = {'train': {'X': x_train[0:,0,0:28,0:28].reshape((x_train.shape[0],-1)),\n",
    "                      'y': y_train},\n",
    "            'test': {'X': x_test[0:,0,0:28,0:28].reshape((x_test.shape[0],-1)),\n",
    "                     'y': y_test}}\n",
    "    \n",
    "    return data"
   ]
  },
  {
   "cell_type": "code",
   "execution_count": 5,
   "metadata": {},
   "outputs": [
    {
     "name": "stdout",
     "output_type": "stream",
     "text": [
      "<class 'numpy.ndarray'>\n",
      "(784,)\n",
      "[0.         0.         0.         0.         0.         0.\n",
      " 0.         0.         0.         0.         0.         0.\n",
      " 0.         0.         0.         0.         0.         0.\n",
      " 0.         0.         0.         0.         0.         0.\n",
      " 0.         0.         0.         0.         0.         0.\n",
      " 0.         0.         0.         0.         0.         0.\n",
      " 0.         0.         0.         0.         0.         0.\n",
      " 0.         0.         0.         0.         0.         0.\n",
      " 0.         0.         0.         0.         0.         0.\n",
      " 0.         0.         0.         0.         0.         0.\n",
      " 0.         0.         0.         0.         0.         0.\n",
      " 0.         0.         0.         0.         0.         0.\n",
      " 0.         0.         0.         0.         0.         0.\n",
      " 0.         0.         0.         0.         0.         0.\n",
      " 0.         0.         0.         0.         0.         0.\n",
      " 0.         0.         0.         0.         0.         0.\n",
      " 0.         0.         0.         0.         0.         0.\n",
      " 0.         0.         0.         0.         0.         0.\n",
      " 0.         0.         0.         0.         0.         0.\n",
      " 0.         0.         0.         0.         0.         0.\n",
      " 0.         0.         0.         0.         0.         0.\n",
      " 0.         0.         0.         0.         0.         0.\n",
      " 0.         0.         0.         0.         0.         0.\n",
      " 0.         0.         0.         0.         0.         0.\n",
      " 0.         0.         0.         0.         0.         0.\n",
      " 0.         0.         0.         0.         0.         0.\n",
      " 0.         0.         0.484375   0.98828125 0.99609375 0.24609375\n",
      " 0.         0.         0.         0.         0.         0.\n",
      " 0.         0.         0.         0.         0.         0.\n",
      " 0.         0.         0.         0.         0.         0.\n",
      " 0.         0.         0.         0.         0.         0.375\n",
      " 0.953125   0.98046875 0.98828125 0.2421875  0.         0.\n",
      " 0.         0.         0.         0.         0.         0.\n",
      " 0.         0.         0.         0.         0.         0.\n",
      " 0.         0.         0.         0.         0.         0.\n",
      " 0.         0.         0.         0.49609375 0.98046875 0.98046875\n",
      " 0.98828125 0.2421875  0.         0.         0.         0.\n",
      " 0.         0.         0.         0.         0.         0.\n",
      " 0.         0.         0.         0.         0.         0.\n",
      " 0.         0.         0.         0.         0.         0.\n",
      " 0.265625   0.921875   0.98046875 0.82421875 0.12109375 0.03125\n",
      " 0.         0.         0.         0.         0.         0.\n",
      " 0.         0.         0.         0.         0.         0.\n",
      " 0.         0.         0.         0.         0.         0.\n",
      " 0.         0.         0.         0.234375   0.890625   0.98046875\n",
      " 0.98046875 0.3671875  0.         0.         0.         0.\n",
      " 0.         0.         0.         0.         0.         0.\n",
      " 0.         0.         0.         0.         0.         0.\n",
      " 0.         0.         0.         0.         0.         0.\n",
      " 0.         0.60546875 0.98828125 0.98828125 0.73828125 0.\n",
      " 0.         0.         0.         0.         0.         0.\n",
      " 0.         0.         0.         0.         0.         0.\n",
      " 0.         0.         0.         0.         0.         0.\n",
      " 0.         0.         0.         0.         0.078125   0.98828125\n",
      " 0.98046875 0.91796875 0.2578125  0.         0.         0.\n",
      " 0.         0.         0.         0.         0.         0.\n",
      " 0.         0.         0.         0.         0.         0.\n",
      " 0.         0.         0.         0.         0.         0.\n",
      " 0.         0.125      0.80078125 0.98828125 0.98046875 0.4921875\n",
      " 0.         0.         0.         0.         0.         0.\n",
      " 0.         0.         0.         0.         0.         0.\n",
      " 0.         0.         0.         0.         0.         0.\n",
      " 0.         0.         0.         0.         0.         0.40625\n",
      " 0.98046875 0.98828125 0.71875    0.05859375 0.         0.\n",
      " 0.         0.         0.         0.         0.         0.\n",
      " 0.         0.         0.         0.         0.         0.\n",
      " 0.         0.         0.         0.         0.         0.\n",
      " 0.         0.         0.3125     0.9375     0.98046875 0.75390625\n",
      " 0.08984375 0.         0.         0.         0.         0.\n",
      " 0.         0.         0.         0.         0.         0.\n",
      " 0.         0.         0.         0.         0.         0.\n",
      " 0.         0.         0.         0.         0.         0.125\n",
      " 0.98828125 0.98828125 0.98828125 0.62109375 0.         0.\n",
      " 0.         0.         0.         0.         0.         0.\n",
      " 0.         0.         0.         0.         0.         0.\n",
      " 0.         0.         0.         0.         0.         0.\n",
      " 0.         0.         0.         0.58984375 0.98046875 0.98046875\n",
      " 0.98046875 0.15234375 0.         0.         0.         0.\n",
      " 0.         0.         0.         0.         0.         0.\n",
      " 0.         0.         0.         0.         0.         0.\n",
      " 0.         0.         0.         0.         0.         0.\n",
      " 0.1875     0.86328125 0.98046875 0.98046875 0.671875   0.\n",
      " 0.         0.         0.         0.         0.         0.\n",
      " 0.         0.         0.         0.         0.         0.\n",
      " 0.         0.         0.         0.         0.         0.\n",
      " 0.         0.         0.         0.         0.9140625  0.98046875\n",
      " 0.98046875 0.765625   0.046875   0.         0.         0.\n",
      " 0.         0.         0.         0.         0.         0.\n",
      " 0.         0.         0.         0.         0.         0.\n",
      " 0.         0.         0.         0.         0.         0.\n",
      " 0.         0.         0.98828125 0.98046875 0.98046875 0.34765625\n",
      " 0.         0.         0.         0.         0.         0.\n",
      " 0.         0.         0.         0.         0.         0.\n",
      " 0.         0.         0.         0.         0.         0.\n",
      " 0.         0.         0.         0.         0.         0.62109375\n",
      " 0.99609375 0.98828125 0.98828125 0.12109375 0.         0.\n",
      " 0.         0.         0.         0.         0.         0.\n",
      " 0.         0.         0.         0.         0.         0.\n",
      " 0.         0.         0.         0.         0.         0.\n",
      " 0.         0.         0.1875     0.890625   0.98828125 0.96484375\n",
      " 0.546875   0.03125    0.         0.         0.         0.\n",
      " 0.         0.         0.         0.         0.         0.\n",
      " 0.         0.         0.         0.         0.         0.\n",
      " 0.         0.         0.         0.         0.         0.\n",
      " 0.25       0.98046875 0.98828125 0.859375   0.         0.\n",
      " 0.         0.         0.         0.         0.         0.\n",
      " 0.         0.         0.         0.         0.         0.\n",
      " 0.         0.         0.         0.         0.         0.\n",
      " 0.         0.         0.         0.         0.25       0.98046875\n",
      " 0.98828125 0.859375   0.         0.         0.         0.\n",
      " 0.         0.         0.         0.         0.         0.\n",
      " 0.         0.         0.         0.         0.         0.\n",
      " 0.         0.         0.         0.         0.         0.\n",
      " 0.         0.         0.09375    0.75390625 0.98828125 0.859375\n",
      " 0.         0.         0.         0.         0.         0.\n",
      " 0.         0.         0.         0.         0.         0.\n",
      " 0.         0.         0.         0.         0.         0.\n",
      " 0.         0.         0.         0.         0.         0.\n",
      " 0.         0.         0.         0.         0.         0.\n",
      " 0.         0.         0.         0.         0.         0.\n",
      " 0.         0.         0.         0.         0.         0.\n",
      " 0.         0.         0.         0.         0.         0.\n",
      " 0.         0.         0.         0.         0.         0.\n",
      " 0.         0.         0.         0.         0.         0.\n",
      " 0.         0.         0.         0.         0.         0.\n",
      " 0.         0.         0.         0.         0.         0.\n",
      " 0.         0.         0.         0.         0.         0.\n",
      " 0.         0.         0.         0.         0.         0.\n",
      " 0.         0.         0.         0.         0.         0.\n",
      " 0.         0.         0.         0.         0.         0.\n",
      " 0.         0.         0.         0.        ]\n"
     ]
    }
   ],
   "source": [
    "data = get_mnist_data()\n",
    "\"\"\"\n",
    "Example of accessing a single train vector\n",
    "\"\"\"\n",
    "example = data['train']['X'][3]\n",
    "print(type(example))\n",
    "print(example.shape)\n",
    "print(example)"
   ]
  },
  {
   "cell_type": "code",
   "execution_count": 6,
   "metadata": {},
   "outputs": [
    {
     "name": "stdout",
     "output_type": "stream",
     "text": [
      "Label: 5\n"
     ]
    },
    {
     "data": {
      "text/plain": [
       "<Figure size 640x480 with 1 Axes>"
      ]
     },
     "metadata": {},
     "output_type": "display_data"
    }
   ],
   "source": [
    "\"\"\"\n",
    "Example of displaying a single image\n",
    "\"\"\"\n",
    "\n",
    "imageId = 15\n",
    "viewImageByIndex(data, imageId)"
   ]
  },
  {
   "cell_type": "code",
   "execution_count": 10,
   "metadata": {},
   "outputs": [],
   "source": [
    "#exercitiul1\n",
    "digit_0 = np.array([0, 2, 3,8] )\n",
    "digit_1 = np.array([1, 7, 4, 9])"
   ]
  },
  {
   "cell_type": "code",
   "execution_count": 11,
   "metadata": {},
   "outputs": [
    {
     "name": "stdout",
     "output_type": "stream",
     "text": [
      "[7 2 1 0 4 1 4 9 5 9 0 6 9 0 1 5 9 7 3 4]\n",
      "[5 0 4 1 9 2 1 3 1 4 3 5 3 6 1 7 2 8 6 9]\n"
     ]
    }
   ],
   "source": [
    "testare = data['test']['y'][0:20]\n",
    "antrenare = data['train']['y'][0:20]\n",
    "print(testare)\n",
    "print(antrenare)"
   ]
  },
  {
   "cell_type": "code",
   "execution_count": 49,
   "metadata": {},
   "outputs": [],
   "source": [
    "m=len(data['train']['y'][:])\n",
    "n=len(data['test']['y'][:])\n",
    "\n",
    "def search_index(x):\n",
    "    list_1=np.array([])\n",
    "    for i in range(m):\n",
    "        if(data['train']['y'][i]==x):\n",
    "            list_1=np.append(list_1,[i])\n",
    "    return list_1\n",
    "\n",
    "def search_indici(x):\n",
    "    #m=len(data['train']['y'][:])\n",
    "    #n=len(data['test']['y'][:])\n",
    "    list_train=np.array([])\n",
    "    list_test=np.array([])\n",
    "    for i in range(m):\n",
    "        if(data['train']['y'][i] == x):\n",
    "            list_train=np.append(list_train,[i])\n",
    "    for i in range(n):\n",
    "        if(data['test']['y'][i] == x):\n",
    "            list_test=np.append(list_test,[i])        \n",
    "    return (list_train,list_test)\n"
   ]
  },
  {
   "cell_type": "code",
   "execution_count": 46,
   "metadata": {},
   "outputs": [
    {
     "name": "stdout",
     "output_type": "stream",
     "text": [
      "{'train': {'X': array([[0., 0., 0., ..., 0., 0., 0.],\n",
      "       [0., 0., 0., ..., 0., 0., 0.],\n",
      "       [0., 0., 0., ..., 0., 0., 0.],\n",
      "       ...,\n",
      "       [0., 0., 0., ..., 0., 0., 0.],\n",
      "       [0., 0., 0., ..., 0., 0., 0.],\n",
      "       [0., 0., 0., ..., 0., 0., 0.]], dtype=float32), 'y': array([5, 0, 4, ..., 5, 6, 8], dtype=uint8)}, 'test': {'X': array([[0., 0., 0., ..., 0., 0., 0.],\n",
      "       [0., 0., 0., ..., 0., 0., 0.],\n",
      "       [0., 0., 0., ..., 0., 0., 0.],\n",
      "       ...,\n",
      "       [0., 0., 0., ..., 0., 0., 0.],\n",
      "       [0., 0., 0., ..., 0., 0., 0.],\n",
      "       [0., 0., 0., ..., 0., 0., 0.]], dtype=float32), 'y': array([7, 2, 1, ..., 4, 5, 6], dtype=uint8)}}\n",
      "10 [[0. 0. 0. ... 0. 0. 0.]\n",
      " [0. 0. 0. ... 0. 0. 0.]\n",
      " [0. 0. 0. ... 0. 0. 0.]\n",
      " ...\n",
      " [0. 0. 0. ... 0. 0. 0.]\n",
      " [0. 0. 0. ... 0. 0. 0.]\n",
      " [0. 0. 0. ... 0. 0. 0.]]\n"
     ]
    },
    {
     "data": {
      "text/plain": [
       "array([[ 1,  2,  3,  4],\n",
       "       [ 9, 10, 11, 12]])"
      ]
     },
     "execution_count": 46,
     "metadata": {},
     "output_type": "execute_result"
    }
   ],
   "source": [
    "import copy\n",
    "data2 = copy.deepcopy(data)\n",
    "print(data2)\n",
    "data3=data['train']['X'][0:10]\n",
    "print(len(data3), data3)\n",
    "arr = np.array([[1,2,3,4], [5,6,7,8], [9,10,11,12]])\n",
    "len(arr)\n",
    "np.delete(arr, 1, 0)"
   ]
  },
  {
   "cell_type": "code",
   "execution_count": 50,
   "metadata": {},
   "outputs": [],
   "source": [
    "def train_for_number(x,y):\n",
    "    a=[]\n",
    "    b=[]\n",
    "    indici_x=search_index(x).astype(int)\n",
    "    indici_y=search_index(y).astype(int)\n",
    "    n=len(indici_x)\n",
    "    m=len(indici_y)\n",
    "    for i in range(n):\n",
    "        a.append(data['train']['X'][indici_x[i]])\n",
    "    for j in range(m):\n",
    "        b.append(data['train']['X'][indici_y[j]])\n",
    "    train_x = np.asarray(a)\n",
    "    train_y = np.asarray(b)\n",
    "    return (train_x,train_y)\n",
    "\n",
    "pair_0_1=train_for_number(0,1)\n",
    "pair_2_7=train_for_number(2,7)\n",
    "pair_3_4=train_for_number(3,4)\n",
    "pair_8_9=train_for_number(8,9)"
   ]
  },
  {
   "cell_type": "code",
   "execution_count": 51,
   "metadata": {},
   "outputs": [
    {
     "name": "stdout",
     "output_type": "stream",
     "text": [
      "5923 5958 6131 5851\n",
      "6742 6265 5842 5949\n"
     ]
    }
   ],
   "source": [
    "print(len(pair_0_1[0]),len(pair_2_7[0]),len(pair_3_4[0]),len(pair_8_9[0]))\n",
    "print(len(pair_0_1[1]),len(pair_2_7[1]),len(pair_3_4[1]),len(pair_8_9[1]))"
   ]
  },
  {
   "cell_type": "code",
   "execution_count": 52,
   "metadata": {},
   "outputs": [],
   "source": [
    "def data_for_pair(x,y,ch):\n",
    "    if (ch == 'train'):\n",
    "        l=0\n",
    "    if (ch == 'test'):\n",
    "        l=1\n",
    "    a=[]\n",
    "    b=[]\n",
    "    indici_x=search_indici(x)[l].astype(int)\n",
    "    indici_y=search_indici(y)[l].astype(int)\n",
    "    n=len(indici_x)\n",
    "    m=len(indici_y)\n",
    "    for i in range(n):\n",
    "        a.append(data[ch]['X'][indici_x[i]])\n",
    "    for j in range(m):\n",
    "        b.append(data[ch]['X'][indici_y[j]])\n",
    "    data_x = np.asarray(a)\n",
    "    data_y = np.asarray(b)\n",
    "    return (data_x,data_y)"
   ]
  },
  {
   "cell_type": "code",
   "execution_count": 53,
   "metadata": {},
   "outputs": [
    {
     "name": "stdout",
     "output_type": "stream",
     "text": [
      "5923 6742\n",
      "980 1135\n",
      "[[0. 0. 0. ... 0. 0. 0.]\n",
      " [0. 0. 0. ... 0. 0. 0.]\n",
      " [0. 0. 0. ... 0. 0. 0.]\n",
      " ...\n",
      " [0. 0. 0. ... 0. 0. 0.]\n",
      " [0. 0. 0. ... 0. 0. 0.]\n",
      " [0. 0. 0. ... 0. 0. 0.]]\n"
     ]
    }
   ],
   "source": [
    "train_pair_0_1=data_for_pair(0,1,'train')\n",
    "test_pair_0_1=data_for_pair(0,1,'test')\n",
    "\n",
    "print(len(train_pair_0_1[0]),len(train_pair_0_1[1]))\n",
    "print(len(test_pair_0_1[0]),len(test_pair_0_1[1]))\n",
    "print(train_pair_0_1[0])"
   ]
  },
  {
   "cell_type": "code",
   "execution_count": 54,
   "metadata": {},
   "outputs": [],
   "source": [
    "train_pair_2_7=data_for_pair(2,7,'train')\n",
    "test_pair_2_7=data_for_pair(2,7,'test')\n",
    "train_pair_3_4=data_for_pair(3,4,'train')\n",
    "test_pair_3_4=data_for_pair(3,4,'test')\n",
    "train_pair_8_9=data_for_pair(8,9,'train')\n",
    "test_pair_8_9=data_for_pair(8,9,'test')"
   ]
  },
  {
   "cell_type": "code",
   "execution_count": null,
   "metadata": {},
   "outputs": [],
   "source": [
    "# exercitiul 2"
   ]
  },
  {
   "cell_type": "code",
   "execution_count": 55,
   "metadata": {},
   "outputs": [
    {
     "name": "stdout",
     "output_type": "stream",
     "text": [
      "5923 6742\n",
      "5958 6265\n",
      "6131 5842\n",
      "5851 5949\n"
     ]
    }
   ],
   "source": [
    "\n",
    "print(len(train_pair_0_1[0]),len(train_pair_0_1[1]))\n",
    "print(len(train_pair_2_7[0]),len(train_pair_2_7[1]))\n",
    "print(len(train_pair_3_4[0]),len(train_pair_3_4[1]))\n",
    "print(len(train_pair_8_9[0]),len(train_pair_8_9[1]))"
   ]
  },
  {
   "cell_type": "code",
   "execution_count": 56,
   "metadata": {},
   "outputs": [
    {
     "name": "stdout",
     "output_type": "stream",
     "text": [
      "[[0. 0. 0. ... 0. 0. 0.]\n",
      " [0. 0. 0. ... 0. 0. 0.]\n",
      " [0. 0. 0. ... 0. 0. 0.]\n",
      " ...\n",
      " [0. 0. 0. ... 0. 0. 0.]\n",
      " [0. 0. 0. ... 0. 0. 0.]\n",
      " [0. 0. 0. ... 0. 0. 0.]] [0. 0. 0. ... 1. 1. 1.] 12665 12665\n"
     ]
    }
   ],
   "source": [
    "def y_label_train(lungime,cifra):\n",
    "    vect = np.empty(lungime)\n",
    "    vect.fill(cifra)\n",
    "    return vect\n",
    "\n",
    "def y_array_label(X,Y,x,y):\n",
    "    y_t=[]\n",
    "    y_t.append(y_label_train(len(X),x))\n",
    "    y_t.append(y_label_train(len(Y),y))\n",
    "    array_vect=np.concatenate((y_t[0],y_t[1]), axis=None)\n",
    "    return array_vect\n",
    "    \n",
    "\n",
    "\n",
    "X_train01=np.concatenate((train_pair_0_1[0], train_pair_0_1[1]), axis=0)\n",
    "y_train01=y_array_label(train_pair_0_1[0],train_pair_0_1[1],0,1)\n",
    "\n",
    "print(X_train01,y_train01,len(X_train01),len(y_train01))"
   ]
  },
  {
   "cell_type": "code",
   "execution_count": 57,
   "metadata": {},
   "outputs": [
    {
     "name": "stdout",
     "output_type": "stream",
     "text": [
      "[[0. 0. 0. ... 0. 0. 0.]\n",
      " [0. 0. 0. ... 0. 0. 0.]\n",
      " [0. 0. 0. ... 0. 0. 0.]\n",
      " ...\n",
      " [0. 0. 0. ... 0. 0. 0.]\n",
      " [0. 0. 0. ... 0. 0. 0.]\n",
      " [0. 0. 0. ... 0. 0. 0.]] [2. 2. 2. ... 7. 7. 7.] 12223 12223\n",
      "[[0. 0. 0. ... 0. 0. 0.]\n",
      " [0. 0. 0. ... 0. 0. 0.]\n",
      " [0. 0. 0. ... 0. 0. 0.]\n",
      " ...\n",
      " [0. 0. 0. ... 0. 0. 0.]\n",
      " [0. 0. 0. ... 0. 0. 0.]\n",
      " [0. 0. 0. ... 0. 0. 0.]] [3. 3. 3. ... 4. 4. 4.] 11973 11973\n",
      "[[0. 0. 0. ... 0. 0. 0.]\n",
      " [0. 0. 0. ... 0. 0. 0.]\n",
      " [0. 0. 0. ... 0. 0. 0.]\n",
      " ...\n",
      " [0. 0. 0. ... 0. 0. 0.]\n",
      " [0. 0. 0. ... 0. 0. 0.]\n",
      " [0. 0. 0. ... 0. 0. 0.]] [8. 8. 8. ... 9. 9. 9.] 11800 11800\n"
     ]
    }
   ],
   "source": [
    "\n",
    "X_train27=np.concatenate((train_pair_2_7[0], train_pair_2_7[1]), axis=0)\n",
    "y_train27=y_array_label(train_pair_2_7[0],train_pair_2_7[1],2,7)\n",
    "\n",
    "print(X_train27,y_train27,len(X_train27),len(y_train27))\n",
    "\n",
    "X_train34=np.concatenate((train_pair_3_4[0], train_pair_3_4[1]), axis=0)\n",
    "y_train34=y_array_label(train_pair_3_4[0],train_pair_3_4[1],3,4)\n",
    "print(X_train34,y_train34,len(X_train34),len(y_train34))\n",
    "\n",
    "X_train89=np.concatenate((train_pair_8_9[0], train_pair_8_9[1]), axis=0)\n",
    "y_train89=y_array_label(train_pair_8_9[0],train_pair_8_9[1],8,9)\n",
    "print(X_train89,y_train89,len(X_train89),len(y_train89))"
   ]
  },
  {
   "cell_type": "code",
   "execution_count": 58,
   "metadata": {},
   "outputs": [
    {
     "name": "stdout",
     "output_type": "stream",
     "text": [
      "[[0. 0. 0. ... 0. 0. 0.]\n",
      " [0. 0. 0. ... 0. 0. 0.]\n",
      " [0. 0. 0. ... 0. 0. 0.]\n",
      " ...\n",
      " [0. 0. 0. ... 0. 0. 0.]\n",
      " [0. 0. 0. ... 0. 0. 0.]\n",
      " [0. 0. 0. ... 0. 0. 0.]] [2. 2. 2. ... 7. 7. 7.] 2060 2060\n",
      "[[0. 0. 0. ... 0. 0. 0.]\n",
      " [0. 0. 0. ... 0. 0. 0.]\n",
      " [0. 0. 0. ... 0. 0. 0.]\n",
      " ...\n",
      " [0. 0. 0. ... 0. 0. 0.]\n",
      " [0. 0. 0. ... 0. 0. 0.]\n",
      " [0. 0. 0. ... 0. 0. 0.]] [3. 3. 3. ... 4. 4. 4.] 1992 1992\n",
      "[[0. 0. 0. ... 0. 0. 0.]\n",
      " [0. 0. 0. ... 0. 0. 0.]\n",
      " [0. 0. 0. ... 0. 0. 0.]\n",
      " ...\n",
      " [0. 0. 0. ... 0. 0. 0.]\n",
      " [0. 0. 0. ... 0. 0. 0.]\n",
      " [0. 0. 0. ... 0. 0. 0.]] [8. 8. 8. ... 9. 9. 9.] 1983 1983\n"
     ]
    }
   ],
   "source": [
    "\n",
    "X_test01=np.concatenate((test_pair_0_1[0], test_pair_0_1[1]), axis=0)\n",
    "y_test01=y_array_label(test_pair_0_1[0],test_pair_0_1[1],0,1)\n",
    "\n",
    "X_test27=np.concatenate((test_pair_2_7[0], test_pair_2_7[1]), axis=0)\n",
    "y_test27=y_array_label(test_pair_2_7[0],test_pair_2_7[1],2,7)\n",
    "\n",
    "print(X_test27,y_test27,len(X_test27),len(y_test27))\n",
    "\n",
    "X_test34=np.concatenate((test_pair_3_4[0], test_pair_3_4[1]), axis=0)\n",
    "y_test34=y_array_label(test_pair_3_4[0],test_pair_3_4[1],3,4)\n",
    "print(X_test34,y_test34,len(X_test34),len(y_test34))\n",
    "\n",
    "X_test89=np.concatenate((test_pair_8_9[0], test_pair_8_9[1]), axis=0)\n",
    "y_test89=y_array_label(test_pair_8_9[0],test_pair_8_9[1],8,9)\n",
    "print(X_test89,y_test89,len(X_test89),len(y_test89))"
   ]
  },
  {
   "cell_type": "code",
   "execution_count": 59,
   "metadata": {},
   "outputs": [],
   "source": [
    "\n",
    "from sklearn import linear_model\n",
    "\n",
    "import matplotlib as mpl\n",
    "import matplotlib.pyplot as plt\n",
    "import numpy as np\n",
    "import math\n",
    "\n",
    "class estimatorWrapper(linear_model.LogisticRegression):\n",
    "    def __init__(self, t, lr):\n",
    "        self.lr = lr\n",
    "        self.t = t\n",
    "        \n",
    "    def fit(self, X, y):\n",
    "        self.lr.fit(X,y)\n",
    "    \n",
    "    def predict(self, xVal):\n",
    "        predProb = self.lr.predict_proba(xVal)\n",
    "        ret = []\n",
    "        \n",
    "        def choice(p):\n",
    "            retVal = 0\n",
    "            \n",
    "            if p[1] > self.t:\n",
    "                retVal = 1\n",
    "            #print(p[1],self.t,retVal)\n",
    "            return retVal\n",
    "            \n",
    "        for p in predProb:\n",
    "            ret.append(choice(p))\n",
    "        return ret"
   ]
  },
  {
   "cell_type": "code",
   "execution_count": 60,
   "metadata": {},
   "outputs": [
    {
     "name": "stdout",
     "output_type": "stream",
     "text": [
      "[0.53664303 0.53664303 0.53664303 0.53664303 0.53664303]\n",
      "[0.99763593 1.         0.99763593 0.99763593 0.99527187]\n",
      "[1.         1.         0.99763593 0.99763593 0.99763593]\n",
      "[1.         1.         0.99763593 0.99763593 0.99763593]\n",
      "[1.         1.         0.99763593 0.99763593 0.99763593]\n",
      "[1.         1.         0.99763593 1.         0.99763593]\n",
      "[1.         1.         0.99763593 1.         0.99763593]\n",
      "[1.         1.         0.99763593 1.         0.99763593]\n",
      "[1.         1.         0.99763593 1.         0.99763593]\n",
      "[1.         1.         1.         1.         0.99763593]\n",
      "[1.         1.         1.         1.         0.99763593]\n",
      "[1.         1.         1.         1.         0.99763593]\n",
      "[1.         1.         0.99763593 1.         0.99763593]\n",
      "[1.         1.         0.99763593 1.         0.99763593]\n",
      "[1.         0.99763593 0.99763593 1.         0.99763593]\n",
      "[1.         0.99763593 0.99763593 1.         0.99763593]\n",
      "[1.         0.99763593 0.99763593 1.         0.99763593]\n",
      "[1.         0.99527187 0.99763593 1.         0.99763593]\n",
      "[1.         0.99527187 0.99763593 1.         0.99763593]\n",
      "[1.         0.99527187 0.9929078  1.         0.99763593]\n",
      "[0.5366430260047281, 0.9976359338061466, 0.9985815602836879, 0.9985815602836879, 0.9985815602836879, 0.9990543735224586, 0.9990543735224586, 0.9990543735224586, 0.9990543735224586, 0.9995271867612294, 0.9995271867612294, 0.9995271867612294, 0.9990543735224586, 0.9990543735224586, 0.9985815602836879, 0.9985815602836879, 0.9985815602836879, 0.9981087470449174, 0.9981087470449174, 0.9971631205673759]\n"
     ]
    },
    {
     "data": {
      "image/png": "[encoded data removed]",
      "text/plain": [
       "<Figure size 432x288 with 1 Axes>"
      ]
     },
     "metadata": {
      "needs_background": "light"
     },
     "output_type": "display_data"
    }
   ],
   "source": [
    "from sklearn.model_selection import cross_val_score\n",
    "#linear_model.LogisticRegression(solver='lbfgs')\n",
    "#logistic_regression_model=LogisticRegression(penalty='l1',dual=False,max_iter=110, solver='liblinear')\n",
    "\n",
    "X, y = X_test01 , y_test01\n",
    "\n",
    "# t in [0, 1] with 0.05 increments\n",
    "t_range = np.arange(0.0, 1.0, 0.05)\n",
    "t_scores = []\n",
    "\n",
    "for t in t_range:\n",
    "    clf = linear_model.LogisticRegression(C=1e5,solver='liblinear')\n",
    "    wrapp = estimatorWrapper(t, clf)\n",
    "    scores = cross_val_score(wrapp, X, y, cv=5, scoring='accuracy')\n",
    "    print(scores)\n",
    "    t_scores.append(scores.mean())\n",
    "    \n",
    "print(t_scores)   \n",
    "plt.close()\n",
    "\n",
    "plt.plot(t_range, t_scores)\n",
    "plt.xlabel('Value of t for LR')\n",
    "plt.ylabel('Cross-validated accuracy')\n",
    "\n",
    "plt.show()"
   ]
  },
  {
   "cell_type": "code",
   "execution_count": 61,
   "metadata": {},
   "outputs": [
    {
     "name": "stdout",
     "output_type": "stream",
     "text": [
      "[0.5323332057735092, 0.9983419180774558, 0.9984998336172675, 0.9984209070190039, 0.9984998647766036, 0.9984208758350555, 0.9984208758350555, 0.9984209070190039, 0.9981839401943592, 0.9981839401943592, 0.9982628979519589, 0.9982628979519589, 0.9983418245502225, 0.9984208134917708, 0.9984997400900344, 0.9984208134917708, 0.998499802433319, 0.9984998647766036, 0.9982629915038045, 0.9978682650098658]\n"
     ]
    },
    {
     "data": {
      "image/png": "[encoded data removed]",
      "text/plain": [
       "<Figure size 432x288 with 1 Axes>"
      ]
     },
     "metadata": {
      "needs_background": "light"
     },
     "output_type": "display_data"
    }
   ],
   "source": [
    "X, y = X_train01 , y_train01\n",
    "\n",
    "# t in [0, 1] with 0.05 increments\n",
    "t_range = np.arange(0.0, 1.0, 0.05)\n",
    "t_scores = []\n",
    "\n",
    "for t in t_range:\n",
    "    clf = linear_model.LogisticRegression(C=1e5,solver='liblinear')\n",
    "    wrapp = estimatorWrapper(t, clf)\n",
    "    scores = cross_val_score(wrapp, X, y, cv=5, scoring='accuracy')\n",
    "    t_scores.append(scores.mean())\n",
    "    \n",
    "print(t_scores)   \n",
    "plt.close()\n",
    "\n",
    "plt.plot(t_range, t_scores)\n",
    "plt.xlabel('Value of t for LR')\n",
    "plt.ylabel('Cross-validated accuracy')\n",
    "\n",
    "plt.show()"
   ]
  },
  {
   "cell_type": "code",
   "execution_count": 63,
   "metadata": {},
   "outputs": [
    {
     "name": "stdout",
     "output_type": "stream",
     "text": [
      "0.9984966173891255\n",
      "[0.99373957 0.99331942 0.99331662 0.99540518 0.99373434] 0.9939030243485935\n"
     ]
    }
   ],
   "source": [
    "\n",
    "from sklearn.model_selection import cross_val_score\n",
    "\n",
    "logisticRegr = linear_model.LogisticRegression(solver = 'lbfgs',max_iter=1100)\n",
    "\n",
    "model=logisticRegr.fit(X_train34,y_train34)\n",
    "\n",
    "score = logisticRegr.score(X_train34, y_train34)\n",
    "print(score)\n",
    "\n",
    "#sau\n",
    "\n",
    "scores = cross_val_score(model, X_train34, y_train34, cv=5)\n",
    "print(scores,scores.mean())"
   ]
  },
  {
   "cell_type": "code",
   "execution_count": 64,
   "metadata": {},
   "outputs": [
    {
     "name": "stdout",
     "output_type": "stream",
     "text": [
      "[0.0, 0.0, 0.0, 0.0, 0.0, 0.0, 0.0, 0.0, 0.0, 0.0, 0.0, 0.0, 0.0, 0.0, 0.0, 0.0, 0.0, 0.0, 0.0, 0.0]\n"
     ]
    },
    {
     "data": {
      "image/png": "[encoded data removed]",
      "text/plain": [
       "<Figure size 432x288 with 1 Axes>"
      ]
     },
     "metadata": {
      "needs_background": "light"
     },
     "output_type": "display_data"
    }
   ],
   "source": [
    "\n",
    "from sklearn.model_selection import cross_val_score\n",
    "\n",
    "X, y = X_train34 , y_train34\n",
    "\n",
    "\n",
    "# t in [0, 1] with 0.05 increments\n",
    "t_range = np.arange(0.0, 1.0, 0.05)\n",
    "t_scores = []\n",
    "\n",
    "for t in t_range:\n",
    "    clf = linear_model.LogisticRegression(C=1e5,solver='lbfgs',max_iter=1100)\n",
    "    wrapp = estimatorWrapper(t, clf)\n",
    "    scores = cross_val_score(wrapp, X, y, cv=5, scoring='accuracy')\n",
    "    t_scores.append(scores.mean())\n",
    "    \n",
    "print(t_scores)   \n",
    "plt.close()\n",
    "\n",
    "plt.plot(t_range, t_scores)\n",
    "plt.xlabel('Value of t for LR')\n",
    "plt.ylabel('Cross-validated accuracy')\n",
    "\n",
    "plt.show()"
   ]
  },
  {
   "cell_type": "code",
   "execution_count": 65,
   "metadata": {},
   "outputs": [
    {
     "name": "stdout",
     "output_type": "stream",
     "text": [
      "48661 48661\n"
     ]
    }
   ],
   "source": [
    "t_best=0.25\n",
    "\n",
    "X_train_total1=np.concatenate((X_train01, X_train27), axis=0)\n",
    "X_train_total2=np.concatenate((X_train34, X_train89), axis=0)\n",
    "X_train_total=np.concatenate((X_train_total1, X_train_total2), axis=0)\n",
    "\n",
    "y_train_total1=np.concatenate((y_train01, y_train27), axis=0)\n",
    "y_train_total2=np.concatenate((y_train34, y_train89), axis=0)\n",
    "y_train_total=np.concatenate((y_train_total1, y_train_total2), axis=0)\n",
    "print(len(X_train_total),len(y_train_total))"
   ]
  },
  {
   "cell_type": "code",
   "execution_count": 66,
   "metadata": {},
   "outputs": [
    {
     "name": "stdout",
     "output_type": "stream",
     "text": [
      "[0.9984998647766036]\n"
     ]
    }
   ],
   "source": [
    "from sklearn.model_selection import cross_val_score\n",
    "\n",
    "X, y = X_train01 , y_train01\n",
    "\n",
    "t_best=0.20\n",
    "t_scores = []\n",
    "\n",
    "clf = linear_model.LogisticRegression(C=1e5,solver='liblinear', max_iter=1100)\n",
    "wrapp = estimatorWrapper(t_best, clf)\n",
    "scores = cross_val_score(wrapp, X, y, cv=5, scoring='accuracy')\n",
    "t_scores.append(scores.mean())\n",
    "    \n",
    "print(t_scores)"
   ]
  },
  {
   "cell_type": "code",
   "execution_count": 67,
   "metadata": {},
   "outputs": [],
   "source": [
    "#exercitiul 6\n",
    "def viewSquareImage(imageOnSingleLine, label=\"\",predict=\"\"):\n",
    "    \"\"\"\n",
    "    View a single image.\n",
    "\n",
    "    Parameters\n",
    "    ----------\n",
    "    image : numpy array\n",
    "        Make sure this is of the shape you want.\n",
    "    label : str\n",
    "    \"\"\"\n",
    "    from matplotlib.pyplot import show, imshow, cm\n",
    "    import matplotlib.pyplot as plt\n",
    "    \n",
    "    plt.close()\n",
    "    \n",
    "    print(\"Label: %s\" % label,\"Predict: %s\" % predict)\n",
    "    size = int(len(imageOnSingleLine)**(0.5))\n",
    "    imageSquare = imageOnSingleLine.reshape((size, size))\n",
    "    imshow(imageSquare, cmap=cm.gray)\n",
    "    show()   \n",
    "    \n",
    "def viewImageByIndex(dataDict, idx, prediction, trainOrTest=\"test\"):\n",
    "    viewSquareImage(dataDict[trainOrTest]['X'][idx], dataDict[trainOrTest]['y'][idx],prediction)"
   ]
  },
  {
   "cell_type": "code",
   "execution_count": 68,
   "metadata": {},
   "outputs": [
    {
     "data": {
      "text/plain": [
       "8"
      ]
     },
     "execution_count": 68,
     "metadata": {},
     "output_type": "execute_result"
    }
   ],
   "source": [
    "model = logisticRegr.fit(X_train34 , y_train34)\n",
    "prediction34= logisticRegr.predict(X_test34)\n",
    "index = 0\n",
    "misclassifiedIndexes = []\n",
    "\n",
    "for label, predict in zip(y_test34, prediction34):\n",
    "    if (label != predict): \n",
    "        misclassifiedIndexes.append(index)\n",
    "    index +=1\n",
    "len(misclassifiedIndexes)"
   ]
  },
  {
   "cell_type": "code",
   "execution_count": 69,
   "metadata": {},
   "outputs": [
    {
     "data": {
      "text/plain": [
       "{'train': {'X': array([[0., 0., 0., ..., 0., 0., 0.],\n",
       "         [0., 0., 0., ..., 0., 0., 0.],\n",
       "         [0., 0., 0., ..., 0., 0., 0.],\n",
       "         ...,\n",
       "         [0., 0., 0., ..., 0., 0., 0.],\n",
       "         [0., 0., 0., ..., 0., 0., 0.],\n",
       "         [0., 0., 0., ..., 0., 0., 0.]], dtype=float32),\n",
       "  'y': array([3., 3., 3., ..., 4., 4., 4.])},\n",
       " 'test': {'X': array([[0., 0., 0., ..., 0., 0., 0.],\n",
       "         [0., 0., 0., ..., 0., 0., 0.],\n",
       "         [0., 0., 0., ..., 0., 0., 0.],\n",
       "         ...,\n",
       "         [0., 0., 0., ..., 0., 0., 0.],\n",
       "         [0., 0., 0., ..., 0., 0., 0.],\n",
       "         [0., 0., 0., ..., 0., 0., 0.]], dtype=float32),\n",
       "  'y': array([3., 3., 3., ..., 4., 4., 4.])}}"
      ]
     },
     "execution_count": 69,
     "metadata": {},
     "output_type": "execute_result"
    }
   ],
   "source": [
    "\n",
    "my_dict = {'train':{'X' : X_train34 , 'y' : y_train34},\n",
    "           'test':{'X' : X_test34 , 'y' : y_test34}}\n",
    "my_dict"
   ]
  },
  {
   "cell_type": "code",
   "execution_count": 70,
   "metadata": {},
   "outputs": [
    {
     "data": {
      "text/plain": [
       "2114"
      ]
     },
     "execution_count": 70,
     "metadata": {},
     "output_type": "execute_result"
    }
   ],
   "source": [
    "# exercitiul 5\n",
    "\n",
    "model = logisticRegr.fit(X_train01 , y_train01)\n",
    "prediction01= logisticRegr.predict(X_test01)\n",
    "index = 0\n",
    "classifiedIndexes = []\n",
    "\n",
    "for label, predict in zip(y_test01, prediction01):\n",
    "    if (label == predict): \n",
    "        classifiedIndexes.append(index)\n",
    "    index +=1\n",
    "len(classifiedIndexes)"
   ]
  },
  {
   "cell_type": "code",
   "execution_count": 71,
   "metadata": {},
   "outputs": [],
   "source": [
    "\n",
    "my_dict01 = {'train':{'X' : X_train01 , 'y' : y_train01},\n",
    "           'test':{'X' : X_test01 , 'y' : y_test01}}"
   ]
  },
  {
   "cell_type": "code",
   "execution_count": 72,
   "metadata": {},
   "outputs": [
    {
     "name": "stdout",
     "output_type": "stream",
     "text": [
      "Label: 0.0 Predict: 0.0\n"
     ]
    },
    {
     "data": {
      "image/png": "[encoded data removed]",
      "text/plain": [
       "<Figure size 432x288 with 1 Axes>"
      ]
     },
     "metadata": {
      "needs_background": "light"
     },
     "output_type": "display_data"
    },
    {
     "name": "stdout",
     "output_type": "stream",
     "text": [
      "Label: 0.0 Predict: 0.0\n"
     ]
    },
    {
     "data": {
      "image/png": "[encoded data removed]",
      "text/plain": [
       "<Figure size 432x288 with 1 Axes>"
      ]
     },
     "metadata": {
      "needs_background": "light"
     },
     "output_type": "display_data"
    },
    {
     "name": "stdout",
     "output_type": "stream",
     "text": [
      "Label: 0.0 Predict: 0.0\n"
     ]
    },
    {
     "data": {
      "image/png": "[encoded data removed]",
      "text/plain": [
       "<Figure size 432x288 with 1 Axes>"
      ]
     },
     "metadata": {
      "needs_background": "light"
     },
     "output_type": "display_data"
    },
    {
     "name": "stdout",
     "output_type": "stream",
     "text": [
      "Label: 0.0 Predict: 0.0\n"
     ]
    },
    {
     "data": {
      "image/png": "[encoded data removed]",
      "text/plain": [
       "<Figure size 432x288 with 1 Axes>"
      ]
     },
     "metadata": {
      "needs_background": "light"
     },
     "output_type": "display_data"
    },
    {
     "name": "stdout",
     "output_type": "stream",
     "text": [
      "Label: 0.0 Predict: 0.0\n"
     ]
    },
    {
     "data": {
      "image/png": "[encoded data removed]",
      "text/plain": [
       "<Figure size 432x288 with 1 Axes>"
      ]
     },
     "metadata": {
      "needs_background": "light"
     },
     "output_type": "display_data"
    }
   ],
   "source": [
    "for plotIndex, badIndex in enumerate(misclassifiedIndexes[0:5]):\n",
    "    viewImageByIndex(my_dict01, badIndex, prediction01[badIndex])"
   ]
  },
  {
   "cell_type": "code",
   "execution_count": 82,
   "metadata": {},
   "outputs": [
    {
     "name": "stdout",
     "output_type": "stream",
     "text": [
      "(50000, 784)\n",
      "Wall time: 15 s\n"
     ]
    }
   ],
   "source": [
    "%%time \n",
    "import pickle, gzip, urllib.request, json\n",
    "import numpy as np\n",
    "\n",
    "# Load the dataset\n",
    "urllib.request.urlretrieve(\"http://deeplearning.net/data/mnist/mnist.pkl.gz\", \"mnist.pkl.gz\")\n",
    "with gzip.open('mnist.pkl.gz', 'rb') as f:\n",
    "    train_set, valid_set, test_set = pickle.load(f, encoding='latin1')\n",
    "print(train_set[0].shape)"
   ]
  },
  {
   "cell_type": "code",
   "execution_count": 83,
   "metadata": {},
   "outputs": [
    {
     "name": "stdout",
     "output_type": "stream",
     "text": [
      "This is a 5\n"
     ]
    },
    {
     "data": {
      "image/png": "[encoded data removed]",
      "text/plain": [
       "<Figure size 144x720 with 1 Axes>"
      ]
     },
     "metadata": {
      "needs_background": "light"
     },
     "output_type": "display_data"
    },
    {
     "name": "stdout",
     "output_type": "stream",
     "text": [
      "This is a 0\n"
     ]
    },
    {
     "data": {
      "image/png": "[encoded data removed]",
      "text/plain": [
       "<Figure size 144x720 with 1 Axes>"
      ]
     },
     "metadata": {
      "needs_background": "light"
     },
     "output_type": "display_data"
    },
    {
     "name": "stdout",
     "output_type": "stream",
     "text": [
      "This is a 4\n"
     ]
    },
    {
     "data": {
      "image/png": "[encoded data removed]",
      "text/plain": [
       "<Figure size 144x720 with 1 Axes>"
      ]
     },
     "metadata": {
      "needs_background": "light"
     },
     "output_type": "display_data"
    },
    {
     "name": "stdout",
     "output_type": "stream",
     "text": [
      "This is a 1\n"
     ]
    },
    {
     "data": {
      "image/png": "[encoded data removed]",
      "text/plain": [
       "<Figure size 144x720 with 1 Axes>"
      ]
     },
     "metadata": {
      "needs_background": "light"
     },
     "output_type": "display_data"
    },
    {
     "name": "stdout",
     "output_type": "stream",
     "text": [
      "This is a 9\n"
     ]
    },
    {
     "data": {
      "image/png": "[encoded data removed]",
      "text/plain": [
       "<Figure size 144x720 with 1 Axes>"
      ]
     },
     "metadata": {
      "needs_background": "light"
     },
     "output_type": "display_data"
    },
    {
     "name": "stdout",
     "output_type": "stream",
     "text": [
      "This is a 2\n"
     ]
    },
    {
     "data": {
      "image/png": "[encoded data removed]",
      "text/plain": [
       "<Figure size 144x720 with 1 Axes>"
      ]
     },
     "metadata": {
      "needs_background": "light"
     },
     "output_type": "display_data"
    },
    {
     "name": "stdout",
     "output_type": "stream",
     "text": [
      "This is a 1\n"
     ]
    },
    {
     "data": {
      "image/png": "[encoded data removed]",
      "text/plain": [
       "<Figure size 144x720 with 1 Axes>"
      ]
     },
     "metadata": {
      "needs_background": "light"
     },
     "output_type": "display_data"
    },
    {
     "name": "stdout",
     "output_type": "stream",
     "text": [
      "This is a 3\n"
     ]
    },
    {
     "data": {
      "image/png": "[encoded data removed]",
      "text/plain": [
       "<Figure size 144x720 with 1 Axes>"
      ]
     },
     "metadata": {
      "needs_background": "light"
     },
     "output_type": "display_data"
    },
    {
     "name": "stdout",
     "output_type": "stream",
     "text": [
      "This is a 1\n"
     ]
    },
    {
     "data": {
      "image/png": "[encoded data removed]",
      "text/plain": [
       "<Figure size 144x720 with 1 Axes>"
      ]
     },
     "metadata": {
      "needs_background": "light"
     },
     "output_type": "display_data"
    },
    {
     "name": "stdout",
     "output_type": "stream",
     "text": [
      "This is a 4\n"
     ]
    },
    {
     "data": {
      "image/png": "[encoded data removed]",
      "text/plain": [
       "<Figure size 144x720 with 1 Axes>"
      ]
     },
     "metadata": {
      "needs_background": "light"
     },
     "output_type": "display_data"
    }
   ],
   "source": [
    "%matplotlib inline\n",
    "import matplotlib.pyplot as plt\n",
    "\n",
    "plt.rcParams[\"figure.figsize\"] = (2,10)\n",
    "\n",
    "for i in range(0, 10):\n",
    "    img = train_set[0][i]\n",
    "    label = train_set[1][i]\n",
    "    img_reshape = img.reshape((28,28))\n",
    "    imgplot = plt.imshow(img_reshape, cmap='gray')\n",
    "    print('This is a {}'.format(label))\n",
    "    plt.show()"
   ]
  },
  {
   "cell_type": "code",
   "execution_count": 89,
   "metadata": {},
   "outputs": [
    {
     "ename": "TypeError",
     "evalue": "viewImageByIndex() missing 1 required positional argument: 'prediction'",
     "output_type": "error",
     "traceback": [
      "\u001b[1;31m---------------------------------------------------------------------------\u001b[0m",
      "\u001b[1;31mTypeError\u001b[0m                                 Traceback (most recent call last)",
      "\u001b[1;32m<ipython-input-89-55df3d651959>\u001b[0m in \u001b[0;36m<module>\u001b[1;34m\u001b[0m\n\u001b[0;32m      1\u001b[0m \u001b[0mimageId\u001b[0m \u001b[1;33m=\u001b[0m \u001b[1;36m199\u001b[0m\u001b[1;33m\u001b[0m\u001b[1;33m\u001b[0m\u001b[0m\n\u001b[1;32m----> 2\u001b[1;33m \u001b[0mviewImageByIndex\u001b[0m\u001b[1;33m(\u001b[0m\u001b[0mdata\u001b[0m\u001b[1;33m,\u001b[0m \u001b[0mimageId\u001b[0m\u001b[1;33m)\u001b[0m\u001b[1;33m\u001b[0m\u001b[1;33m\u001b[0m\u001b[0m\n\u001b[0m",
      "\u001b[1;31mTypeError\u001b[0m: viewImageByIndex() missing 1 required positional argument: 'prediction'"
     ]
    }
   ],
   "source": [
    "\n",
    "imageId = 199 \n",
    "viewImageByIndex(data, imageId)"
   ]
  },
  {
   "cell_type": "code",
   "execution_count": 3,
   "metadata": {},
   "outputs": [],
   "source": [
    "#incercare\n",
    "#!/usr/bin/env python\n",
    "\n",
    "\"\"\"\n",
    "Train a SVM to categorize 28x28 pixel images into digits (MNIST dataset).\n",
    "\"\"\"\n",
    "\n",
    "import numpy as np\n",
    "\n",
    "\n",
    "def main():\n",
    "    \"\"\"Orchestrate the retrival of data, training and testing.\"\"\"\n",
    "    data = get_data()\n",
    "\n",
    "    # Get classifier\n",
    "    from sklearn.svm import SVC\n",
    "    clf = SVC(probability=False,  # cache_size=200,\n",
    "              kernel=\"rbf\", C=5.0, gamma=.0073)\n",
    "\n",
    "    print(\"Start fitting. This may take a while\")\n",
    "\n",
    "    # take all of it - make that number lower for experiments\n",
    "    examples = len(data['train']['X'])\n",
    "    clf.fit(data['train']['X'][:examples], data['train']['y'][:examples])\n",
    "\n",
    "    analyze(clf, data)\n",
    "    \n",
    "    return (clf, data)\n",
    "\n",
    "\n",
    "def analyze(clf, data):\n",
    "    \"\"\"\n",
    "    Analyze how well a classifier performs on data.\n",
    "\n",
    "    Parameters\n",
    "    ----------\n",
    "    clf : classifier object\n",
    "    data : dict\n",
    "    \"\"\"\n",
    "    # Get confusion matrix\n",
    "    from sklearn import metrics\n",
    "    predicted = clf.predict(data['test']['X'])\n",
    "    print(\"Confusion matrix:\\n%s\" %\n",
    "          metrics.confusion_matrix(data['test']['y'],\n",
    "                                   predicted))\n",
    "    print(\"Accuracy: %0.4f\" % metrics.accuracy_score(data['test']['y'],\n",
    "                                                     predicted))\n",
    "\n",
    "    # Print example\n",
    "    try_id = 1\n",
    "    out = clf.predict(data['test']['X'][try_id])  # clf.predict_proba\n",
    "    print(\"out: %s\" % out)\n",
    "    size = int(len(data['test']['X'][try_id])**(0.5))\n",
    "    view_image(data['test']['X'][try_id].reshape((size, size)),\n",
    "               data['test']['y'][try_id])\n",
    "\n",
    "\n",
    "def view_image(image, label=\"\"):\n",
    "    \"\"\"\n",
    "    View a single image.\n",
    "\n",
    "    Parameters\n",
    "    ----------\n",
    "    image : numpy array\n",
    "        Make sure this is of the shape you want.\n",
    "    label : str\n",
    "    \"\"\"\n",
    "    from matplotlib.pyplot import show, imshow, cm\n",
    "    print(\"Label: %s\" % label)\n",
    "    imshow(image, cmap=cm.gray)\n",
    "    show()    \n",
    "    \n",
    "#def get_data():\n",
    "    \"\"\"\n",
    "    Get data ready to learn with.\n",
    "\n",
    "    Returns\n",
    "    -------\n",
    "    dict\n",
    "    \"\"\"\n",
    "  #  (x_train, y_train, x_test, y_test) = get_mnist_data()\n",
    "   # data = {'train': {'X': x_train[0:,0,0:28,0:28].reshape((x_train.shape[0],-1)),\n",
    "    #                  'y': y_train},\n",
    "     #       'test': {'X': x_test[0:,0,0:28,0:28].reshape((x_test.shape[0],-1)),\n",
    "      #               'y': y_test}}\n",
    "    #return data"
   ]
  },
  {
   "cell_type": "code",
   "execution_count": 73,
   "metadata": {},
   "outputs": [],
   "source": [
    "#if __name__ == '__main__':\n",
    "#    (clf, data) = main()"
   ]
  },
  {
   "cell_type": "code",
   "execution_count": null,
   "metadata": {},
   "outputs": [],
   "source": []
  }
 ],
 "metadata": {
  "kernelspec": {
   "display_name": "Python 3",
   "language": "python",
   "name": "python3"
  },
  "language_info": {
   "codemirror_mode": {
    "name": "ipython",
    "version": 3
   },
   "file_extension": ".py",
   "mimetype": "text/x-python",
   "name": "python",
   "nbconvert_exporter": "python",
   "pygments_lexer": "ipython3",
   "version": "3.7.4"
  }
 },
 "nbformat": 4,
 "nbformat_minor": 2
}
